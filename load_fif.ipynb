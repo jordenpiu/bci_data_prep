{
 "cells": [
  {
   "cell_type": "code",
   "execution_count": 2,
   "metadata": {},
   "outputs": [],
   "source": [
    "import mne \n",
    "import os \n",
    "from utils import *"
   ]
  },
  {
   "cell_type": "code",
   "execution_count": 4,
   "metadata": {},
   "outputs": [],
   "source": [
    "def fif_read(root,file_name):\n",
    "    raw_path = os.path.join(root,file_name)\n",
    "    raw = mne.io.read_raw(raw_path)\n",
    "    raw.load_data()\n",
    "    raw.plot()\n",
    "    # raw.filter(l_freq=4,h_freq=40)\n",
    "\n",
    "    # events, event_id = mne.events_from_annotations(raw)\n",
    "    # print(events)\n",
    "    # tmin= 0 \n",
    "    # tmax = 1\n",
    "    # baseline = (None, 0)\n",
    "    # epochs_ica = mne.Epochs(raw,\n",
    "    #                         events = events,)"
   ]
  },
  {
   "cell_type": "code",
   "execution_count": 5,
   "metadata": {},
   "outputs": [
    {
     "name": "stdout",
     "output_type": "stream",
     "text": [
      "Opening raw data file /media/pankhi/57A77BEF00BB01D2/DATA/BCI/fif_data/EEG_session1_sub10_multigrasp_realMove.fif...\n"
     ]
    },
    {
     "name": "stderr",
     "output_type": "stream",
     "text": [
      "/tmp/ipykernel_36025/2660248441.py:3: RuntimeWarning: This filename (/media/pankhi/57A77BEF00BB01D2/DATA/BCI/fif_data/EEG_session1_sub10_multigrasp_realMove.fif) does not conform to MNE naming conventions. All raw files should end with raw.fif, raw_sss.fif, raw_tsss.fif, _meg.fif, _eeg.fif, _ieeg.fif, raw.fif.gz, raw_sss.fif.gz, raw_tsss.fif.gz, _meg.fif.gz, _eeg.fif.gz or _ieeg.fif.gz\n",
      "  raw = mne.io.read_raw(raw_path)\n"
     ]
    },
    {
     "name": "stdout",
     "output_type": "stream",
     "text": [
      "Isotrak not found\n",
      "    Range : 0 ... 5250599 =      0.000 ...  2100.240 secs\n",
      "Ready.\n",
      "Reading 0 ... 5250599  =      0.000 ...  2100.240 secs...\n",
      "Filtering raw data in 1 contiguous segment\n",
      "Setting up band-pass filter from 4 - 40 Hz\n",
      "\n",
      "FIR filter parameters\n",
      "---------------------\n",
      "Designing a one-pass, zero-phase, non-causal bandpass filter:\n",
      "- Windowed time-domain design (firwin) method\n",
      "- Hamming window with 0.0194 passband ripple and 53 dB stopband attenuation\n",
      "- Lower passband edge: 4.00\n",
      "- Lower transition bandwidth: 2.00 Hz (-6 dB cutoff frequency: 3.00 Hz)\n",
      "- Upper passband edge: 40.00 Hz\n",
      "- Upper transition bandwidth: 10.00 Hz (-6 dB cutoff frequency: 45.00 Hz)\n",
      "- Filter length: 4125 samples (1.650 s)\n",
      "\n",
      "[]\n"
     ]
    }
   ],
   "source": [
    "files = os.listdir(fif_dir)\n",
    "i=0\n",
    "# for f in files:\n",
    "#     fif_read(fif_dir, f)\n",
    "#     print(i)\n",
    "#     i=i+1\n",
    "\n",
    "fif_read(fif_dir,files[i])"
   ]
  },
  {
   "cell_type": "code",
   "execution_count": null,
   "metadata": {},
   "outputs": [],
   "source": []
  }
 ],
 "metadata": {
  "kernelspec": {
   "display_name": "bci",
   "language": "python",
   "name": "python3"
  },
  "language_info": {
   "codemirror_mode": {
    "name": "ipython",
    "version": 3
   },
   "file_extension": ".py",
   "mimetype": "text/x-python",
   "name": "python",
   "nbconvert_exporter": "python",
   "pygments_lexer": "ipython3",
   "version": "3.11.4"
  },
  "orig_nbformat": 4
 },
 "nbformat": 4,
 "nbformat_minor": 2
}
